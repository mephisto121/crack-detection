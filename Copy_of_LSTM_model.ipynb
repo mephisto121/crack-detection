{
  "nbformat": 4,
  "nbformat_minor": 0,
  "metadata": {
    "colab": {
      "name": "Copy of LSTM model",
      "provenance": [],
      "collapsed_sections": [],
      "authorship_tag": "ABX9TyPvIDpO96uhYkw/VYgINu/k"
    },
    "kernelspec": {
      "name": "python3",
      "display_name": "Python 3"
    },
    "language_info": {
      "name": "python"
    },
    "accelerator": "TPU"
  },
  "cells": [
    {
      "cell_type": "code",
      "metadata": {
        "id": "LLP5BfIdLrBh",
        "colab": {
          "base_uri": "https://localhost:8080/"
        },
        "outputId": "2f12c1ef-1780-4e6b-d832-644039766f6a"
      },
      "source": [
        "pip install PyTDC"
      ],
      "execution_count": null,
      "outputs": [
        {
          "output_type": "stream",
          "text": [
            "Collecting PyTDC\n",
            "\u001b[?25l  Downloading https://files.pythonhosted.org/packages/42/67/7b96fe4efdf15b81eecfd0b58c1c19d3aa5cbc4d961fd5f1e5fc6193254e/PyTDC-0.2.0.tar.gz (73kB)\n",
            "\r\u001b[K     |████▌                           | 10kB 15.2MB/s eta 0:00:01\r\u001b[K     |█████████                       | 20kB 20.8MB/s eta 0:00:01\r\u001b[K     |█████████████▍                  | 30kB 10.7MB/s eta 0:00:01\r\u001b[K     |██████████████████              | 40kB 8.7MB/s eta 0:00:01\r\u001b[K     |██████████████████████▍         | 51kB 5.6MB/s eta 0:00:01\r\u001b[K     |██████████████████████████▉     | 61kB 6.5MB/s eta 0:00:01\r\u001b[K     |███████████████████████████████▎| 71kB 6.6MB/s eta 0:00:01\r\u001b[K     |████████████████████████████████| 81kB 4.4MB/s \n",
            "\u001b[?25hCollecting fuzzywuzzy\n",
            "  Downloading https://files.pythonhosted.org/packages/43/ff/74f23998ad2f93b945c0309f825be92e04e0348e062026998b5eefef4c33/fuzzywuzzy-0.18.0-py2.py3-none-any.whl\n",
            "Requirement already satisfied: numpy in /usr/local/lib/python3.7/dist-packages (from PyTDC) (1.19.5)\n",
            "Requirement already satisfied: pandas in /usr/local/lib/python3.7/dist-packages (from PyTDC) (1.1.5)\n",
            "Requirement already satisfied: tqdm in /usr/local/lib/python3.7/dist-packages (from PyTDC) (4.41.1)\n",
            "Requirement already satisfied: scikit-learn in /usr/local/lib/python3.7/dist-packages (from PyTDC) (0.22.2.post1)\n",
            "Requirement already satisfied: seaborn in /usr/local/lib/python3.7/dist-packages (from PyTDC) (0.11.1)\n",
            "Requirement already satisfied: pytz>=2017.2 in /usr/local/lib/python3.7/dist-packages (from pandas->PyTDC) (2018.9)\n",
            "Requirement already satisfied: python-dateutil>=2.7.3 in /usr/local/lib/python3.7/dist-packages (from pandas->PyTDC) (2.8.1)\n",
            "Requirement already satisfied: joblib>=0.11 in /usr/local/lib/python3.7/dist-packages (from scikit-learn->PyTDC) (1.0.1)\n",
            "Requirement already satisfied: scipy>=0.17.0 in /usr/local/lib/python3.7/dist-packages (from scikit-learn->PyTDC) (1.4.1)\n",
            "Requirement already satisfied: matplotlib>=2.2 in /usr/local/lib/python3.7/dist-packages (from seaborn->PyTDC) (3.2.2)\n",
            "Requirement already satisfied: six>=1.5 in /usr/local/lib/python3.7/dist-packages (from python-dateutil>=2.7.3->pandas->PyTDC) (1.15.0)\n",
            "Requirement already satisfied: kiwisolver>=1.0.1 in /usr/local/lib/python3.7/dist-packages (from matplotlib>=2.2->seaborn->PyTDC) (1.3.1)\n",
            "Requirement already satisfied: cycler>=0.10 in /usr/local/lib/python3.7/dist-packages (from matplotlib>=2.2->seaborn->PyTDC) (0.10.0)\n",
            "Requirement already satisfied: pyparsing!=2.0.4,!=2.1.2,!=2.1.6,>=2.0.1 in /usr/local/lib/python3.7/dist-packages (from matplotlib>=2.2->seaborn->PyTDC) (2.4.7)\n",
            "Building wheels for collected packages: PyTDC\n",
            "  Building wheel for PyTDC (setup.py) ... \u001b[?25l\u001b[?25hdone\n",
            "  Created wheel for PyTDC: filename=PyTDC-0.2.0-cp37-none-any.whl size=79517 sha256=b439eb4e85336e636b3a1a465f7446f85d311fc40e4458105e038c5f82813b3a\n",
            "  Stored in directory: /root/.cache/pip/wheels/22/e6/c5/788aaa9016c28e869cd099ec737543a0a0731c27a24d8fe11a\n",
            "Successfully built PyTDC\n",
            "Installing collected packages: fuzzywuzzy, PyTDC\n",
            "Successfully installed PyTDC-0.2.0 fuzzywuzzy-0.18.0\n"
          ],
          "name": "stdout"
        }
      ]
    },
    {
      "cell_type": "code",
      "metadata": {
        "id": "bGC2rfjZtus2",
        "colab": {
          "base_uri": "https://localhost:8080/"
        },
        "outputId": "b09e25e5-6cfd-44e0-8d8e-dc38689e1224"
      },
      "source": [
        "!nvidia-smi -L\n"
      ],
      "execution_count": null,
      "outputs": [
        {
          "output_type": "stream",
          "text": [
            "NVIDIA-SMI has failed because it couldn't communicate with the NVIDIA driver. Make sure that the latest NVIDIA driver is installed and running.\n",
            "\n"
          ],
          "name": "stdout"
        }
      ]
    },
    {
      "cell_type": "code",
      "metadata": {
        "id": "bOaRLhgHL9Lu"
      },
      "source": [
        "import pandas as pd\n",
        "import numpy as np\n",
        "import matplotlib.pyplot as plt\n",
        "from string import punctuation\n",
        "from sklearn.metrics import accuracy_score\n",
        "import torch\n",
        "from torch import nn, optim\n",
        "import torch.nn.functional as F\n",
        "from sklearn import metrics\n",
        "from sklearn import metrics\n",
        "from sklearn.utils import shuffle"
      ],
      "execution_count": null,
      "outputs": []
    },
    {
      "cell_type": "code",
      "metadata": {
        "id": "ZmsaPBHkLwD7",
        "colab": {
          "base_uri": "https://localhost:8080/"
        },
        "outputId": "794e1de5-05ec-481a-d133-f0abcd87e298"
      },
      "source": [
        "from tdc.single_pred import ADME\n",
        "data = ADME(name = 'Pgp_Broccatelli')\n",
        "split = data.get_split()"
      ],
      "execution_count": null,
      "outputs": [
        {
          "output_type": "stream",
          "text": [
            "Downloading...\n",
            "100%|██████████| 126k/126k [00:00<00:00, 133kiB/s]\n",
            "Loading...\n",
            "Done!\n"
          ],
          "name": "stderr"
        }
      ]
    },
    {
      "cell_type": "code",
      "metadata": {
        "id": "yzie4qBlL1J1"
      },
      "source": [
        "train = split['train']\n",
        "valid = split['valid']\n",
        "test = split['test']"
      ],
      "execution_count": null,
      "outputs": []
    },
    {
      "cell_type": "code",
      "metadata": {
        "id": "quhocudETK01"
      },
      "source": [
        "train = shuffle(train)"
      ],
      "execution_count": null,
      "outputs": []
    },
    {
      "cell_type": "code",
      "metadata": {
        "id": "kC7xqb84L21b"
      },
      "source": [
        "Xtrain = train.iloc[:, 1].str.lower()\n",
        "Ytrain = train.iloc[:, 2].values\n",
        "Xvalid = valid.iloc[:, 1].str.lower()\n",
        "Yvalid = valid.iloc[:, 2].values\n",
        "Xtest = test.iloc[:, 1].str.lower()\n",
        "Ytest = test.iloc[:, 2].values"
      ],
      "execution_count": null,
      "outputs": []
    },
    {
      "cell_type": "code",
      "metadata": {
        "id": "RZqLOodFL4NK"
      },
      "source": [
        "vocabulary = []\n",
        "for i in Xtrain:\n",
        "    for m in i:\n",
        "        if m not in vocabulary:\n",
        "            vocabulary.append(m)\n",
        "for i in Xvalid:\n",
        "    for m in i:\n",
        "        if m not in vocabulary:\n",
        "            vocabulary.append(m)\n",
        "for i in Xtest:\n",
        "    for m in i:\n",
        "        if m not in vocabulary:\n",
        "            vocabulary.append(m)"
      ],
      "execution_count": null,
      "outputs": []
    },
    {
      "cell_type": "code",
      "metadata": {
        "id": "_m-xthVaL5HO"
      },
      "source": [
        "indexer = {word: index for (index, word) \\\n",
        "in enumerate(vocabulary)}"
      ],
      "execution_count": null,
      "outputs": []
    },
    {
      "cell_type": "code",
      "metadata": {
        "id": "vE2jTcXhL7lE"
      },
      "source": [
        "indexed_reviews = []\n",
        "indexed_reviews2 = []\n",
        "indexed_reviews3 = []\n",
        "for review in Xtrain:\n",
        "    indexed_reviews.append([indexer[word] \\\n",
        "    for word in review])\n",
        "for review in Xvalid:\n",
        "    indexed_reviews2.append([indexer[word] \\\n",
        "    for word in review])\n",
        "for review in Xtest:\n",
        "    indexed_reviews3.append([indexer[word] \\\n",
        "    for word in review])        "
      ],
      "execution_count": null,
      "outputs": []
    },
    {
      "cell_type": "code",
      "metadata": {
        "id": "NdenMh7KL_Wg"
      },
      "source": [
        "class LSTM(nn.Module):\n",
        "    def __init__(self, vocab_size, embed_dim, \\\n",
        "        hidden_size, n_layers):\n",
        "        super().__init__()\n",
        "        self.hidden_size = hidden_size\n",
        "        self.embedding = nn.Embedding(vocab_size, embed_dim)\n",
        "        self.lstm = nn.LSTM(embed_dim, hidden_size, \\\n",
        "        n_layers, batch_first=True, bidirectional = True, dropout = 0.2)\n",
        "        self.output = nn.Linear(hidden_size, 2)\n",
        "    def forward(self, x):\n",
        "        out = self.embedding(x)\n",
        "        out, _ = self.lstm(out)\n",
        "        out = out.contiguous().view(-1, self.hidden_size)\n",
        "        out = self.output(out)\n",
        "        out = out[-1,0]\n",
        "        out = torch.sigmoid(out).unsqueeze(0)\n",
        "        return out"
      ],
      "execution_count": null,
      "outputs": []
    },
    {
      "cell_type": "code",
      "metadata": {
        "id": "hFBX3aaOMKEp"
      },
      "source": [
        "loss_function = nn.BCELoss()\n",
        "epochs = 50"
      ],
      "execution_count": null,
      "outputs": []
    },
    {
      "cell_type": "code",
      "metadata": {
        "id": "HpY8hooPMQq4"
      },
      "source": [
        "losses = []\n",
        "acc = []\n",
        "accv = []\n",
        "auc = []\n",
        "auc2 = []\n",
        "validloss = []\n",
        "validlosst = []\n",
        "validcheck = []\n",
        "learning_rate = [0.001 ,0.0001]\n",
        "embed_size = [ 100, 150]\n",
        "hidden_size = [100, 200]\n",
        "num_layers = [2, 3]\n",
        "for lr in learning_rate:\n",
        "    for embed in  embed_size:\n",
        "        for hidden in hidden_size:\n",
        "            for layer in num_layers:\n",
        "                model = LSTM(len(vocabulary), embed, hidden, layer )\n",
        "                optimizer = optim.Adam(model.parameters(), lr=lr, amsgrad=True)\n",
        "                for e in range(1, epochs+1):\n",
        "                    single_loss = []\n",
        "                    preds = []\n",
        "                    targets = []\n",
        "                    preds2 = []\n",
        "                    targets2 = []\n",
        "                    for i, r in enumerate(indexed_reviews):\n",
        "                        if len(r) <= 1:\n",
        "                            continue\n",
        "                        x = torch.Tensor([r]).long()\n",
        "                        y = torch.Tensor([Ytrain[i]])\n",
        "                        pred = model(x)\n",
        "                        loss = loss_function(pred, y)\n",
        "                        optimizer.zero_grad()\n",
        "                        loss.backward()\n",
        "                        optimizer.step()\n",
        "                        final_pred = np.round(pred.detach().numpy())\n",
        "                        preds.append(final_pred)\n",
        "                        targets.append(y)\n",
        "                        single_loss.append(loss.item())\n",
        "                    losses.append(np.mean(single_loss))\n",
        "                    accuracy = accuracy_score(targets,preds)\n",
        "                    acc.append(accuracy)\n",
        "                    aucc = metrics.roc_auc_score(targets, preds)\n",
        "                    auc.append(aucc)\n",
        "                    if e%1 == 0:\n",
        "                        print(\"Epoch: \", e, \"... Loss function: \", losses[-1], \\\n",
        "                        \"... Accuracy: \", acc[-1], \"...AUC: \", auc[-1] )    \n",
        "                    if e %1 ==0:\n",
        "                        validlosst.clear()\n",
        "                        validloss.clear()\n",
        "                        with torch.no_grad():\n",
        "                            for i, r in enumerate(indexed_reviews2):\n",
        "                                xvalid = torch.Tensor([r]).long()\n",
        "                                yvalid = torch.Tensor([Yvalid[i]])\n",
        "                                predv = model(xvalid)\n",
        "                                lossv = loss_function(predv, yvalid)\n",
        "                                validloss.append(lossv.item())\n",
        "                                final_predv = np.round(predv.detach().numpy())\n",
        "                                preds2.append(final_predv)\n",
        "                                targets2.append(yvalid) \n",
        "                            validlosst.append(np.mean(validloss))\n",
        "                            validcheck.append(np.mean(validloss))\n",
        "                            accuracy2 = accuracy_score(targets2,preds2)\n",
        "                            accv.append(accuracy2)\n",
        "                            auccv = metrics.roc_auc_score(targets2, preds2)\n",
        "                            auc2.append(auccv)\n",
        "                            print(\"epoch: \", e, \"... AUCvalid: \", auc2[-1], \"...ACCURACY: \", accv[-1], \"...valid_loss: \", validlosst[-1])\n",
        "                    if e >1:\n",
        "                        if validcheck[-1] == min(validcheck):\n",
        "                            torch.save(model, '/content/sample_data/best_model.pth')\n",
        "                            best_lr = lr\n",
        "                            best_layer = layer\n",
        "                            best_embed = embed\n",
        "                            best_hidden = hidden\n",
        "\n",
        "print(\"best learning rate :\", best_lr)\n",
        "print(\"best hidden size: \", best_hidden)\n",
        "print(\"best embedding size: \", best_embed)\n",
        "print(\"best number of layers: \", best_layer)"
      ],
      "execution_count": null,
      "outputs": []
    },
    {
      "cell_type": "code",
      "metadata": {
        "id": "YOMWevP0EHrQ"
      },
      "source": [
        "best_model = torch.load(\"/content/sample_data/best_model.pth\")"
      ],
      "execution_count": null,
      "outputs": []
    },
    {
      "cell_type": "code",
      "metadata": {
        "colab": {
          "base_uri": "https://localhost:8080/"
        },
        "id": "B4NCXLIX0oln",
        "outputId": "d0bd5484-b925-4097-cd22-6660c4a3119c"
      },
      "source": [
        "print(\"best learning rate :\", best_lr)\n",
        "print(\"best hidden size: \", best_hidden)\n",
        "print(\"best embedding size: \", best_embed)\n",
        "print(\"best number of layers: \", best_layer)"
      ],
      "execution_count": null,
      "outputs": [
        {
          "output_type": "stream",
          "text": [
            "best learning rate : 0.001\n",
            "best hidden size:  200\n",
            "best embedding size:  100\n",
            "best number of layers:  3\n"
          ],
          "name": "stdout"
        }
      ]
    },
    {
      "cell_type": "code",
      "metadata": {
        "id": "-0uUwl9sEUHg",
        "colab": {
          "base_uri": "https://localhost:8080/"
        },
        "outputId": "5531ca92-0f24-4eaf-d0ff-08ee7450d6b4"
      },
      "source": [
        "best_model.eval()\n",
        "targets3 = []\n",
        "preds3 = []\n",
        "acct = []\n",
        "auc3 = []\n",
        "\n",
        "with torch.no_grad():\n",
        "    for i, r in enumerate(indexed_reviews3):\n",
        "        x = torch.Tensor([r]).long()\n",
        "        y = torch.Tensor([Ytest[i]])\n",
        "        pred = best_model(x)\n",
        "        final_pred = np.round(pred.detach().numpy())\n",
        "        preds3.append(final_pred)\n",
        "        targets3.append(y)      \n",
        "    accuracy3 = accuracy_score(targets3,preds3)\n",
        "    acct.append(accuracy3)\n",
        "    auct = metrics.roc_auc_score(targets3, preds3)\n",
        "    auc3.append(auct)\n",
        "    print( \"... AUCvalid: \", auc3, \"...ACCURACY: \", acct)"
      ],
      "execution_count": null,
      "outputs": [
        {
          "output_type": "stream",
          "text": [
            "... AUCvalid:  [0.8112611704629443] ...ACCURACY:  [0.8114754098360656]\n"
          ],
          "name": "stdout"
        }
      ]
    },
    {
      "cell_type": "code",
      "metadata": {
        "id": "k3pThdyErkvB"
      },
      "source": [
        "classification_report_= metrics.classification_report(targets3, preds3)"
      ],
      "execution_count": null,
      "outputs": []
    },
    {
      "cell_type": "code",
      "metadata": {
        "colab": {
          "base_uri": "https://localhost:8080/"
        },
        "id": "Rb5ygxaeoTeN",
        "outputId": "1de9462a-9963-479d-d218-0a03f7db49a6"
      },
      "source": [
        "print(classification_report_)"
      ],
      "execution_count": null,
      "outputs": [
        {
          "output_type": "stream",
          "text": [
            "              precision    recall  f1-score   support\n",
            "\n",
            "         0.0       0.83      0.79      0.81       121\n",
            "         1.0       0.80      0.84      0.82       123\n",
            "\n",
            "    accuracy                           0.81       244\n",
            "   macro avg       0.81      0.81      0.81       244\n",
            "weighted avg       0.81      0.81      0.81       244\n",
            "\n"
          ],
          "name": "stdout"
        }
      ]
    },
    {
      "cell_type": "code",
      "metadata": {
        "id": "bi87YxbPq6e4"
      },
      "source": [
        "conf = metrics.confusion_matrix(targets3, preds3)"
      ],
      "execution_count": null,
      "outputs": []
    },
    {
      "cell_type": "code",
      "metadata": {
        "id": "YR6tezXurF65"
      },
      "source": [
        "import itertools"
      ],
      "execution_count": null,
      "outputs": []
    },
    {
      "cell_type": "code",
      "metadata": {
        "colab": {
          "base_uri": "https://localhost:8080/",
          "height": 328
        },
        "id": "Osq3sp9pp5US",
        "outputId": "1d62e523-2db2-4011-b3ba-ad49c4380693"
      },
      "source": [
        "classes = [0, 1]\n",
        "# plot confusion matrix\n",
        "plt.imshow(conf, interpolation='nearest', cmap=plt.cm.Greens)\n",
        "plt.title(\"Confusion Matrix\")\n",
        "plt.colorbar()\n",
        "tick_marks = np.arange(len(classes))\n",
        "plt.xticks(tick_marks, classes)\n",
        "plt.yticks(tick_marks, classes)\n",
        "\n",
        "fmt = 'd'\n",
        "thresh = conf.max() / 2.\n",
        "for i, j in itertools.product(range(conf.shape[0]), range(conf.shape[1])):\n",
        "    plt.text(j, i, format(conf[i, j], fmt),\n",
        "             horizontalalignment=\"center\",\n",
        "             color=\"white\" if conf[i, j] > thresh else \"black\")\n",
        "\n",
        "plt.tight_layout()\n",
        "plt.ylabel('True label')\n",
        "plt.xlabel('Predicted label')"
      ],
      "execution_count": null,
      "outputs": [
        {
          "output_type": "execute_result",
          "data": {
            "text/plain": [
              "Text(0.5, 15.0, 'Predicted label')"
            ]
          },
          "metadata": {
            "tags": []
          },
          "execution_count": 54
        },
        {
          "output_type": "display_data",
          "data": {
            "image/png": "[encoded data removed]",
            "text/plain": [
              "<Figure size 432x288 with 2 Axes>"
            ]
          },
          "metadata": {
            "tags": [],
            "needs_background": "light"
          }
        }
      ]
    },
    {
      "cell_type": "code",
      "metadata": {
        "id": "EZI37jfhEWRC"
      },
      "source": [
        "rf_fpr, rf_tpr, _ = metrics.roc_curve(targets3, preds3)\n",
        "r_probs = [0 for _ in range(len(targets3))]\n",
        "r_auc = metrics.roc_auc_score(targets3, r_probs)\n",
        "r_fpr, r_tpr, _ = metrics.roc_curve(targets3, r_probs)"
      ],
      "execution_count": null,
      "outputs": []
    },
    {
      "cell_type": "code",
      "metadata": {
        "id": "F4-HiKkoEYMj",
        "colab": {
          "base_uri": "https://localhost:8080/",
          "height": 295
        },
        "outputId": "351c6b82-1135-421a-bebb-eda1ee91350a"
      },
      "source": [
        "plt.plot(rf_fpr, rf_tpr, marker='.', label='LSTM test (AUROC = %0.3f)' % auc3[0])\n",
        "plt.plot(r_fpr, r_tpr, linestyle='--', label='Random prediction (AUROC = %0.3f)' % r_auc)\n",
        "\n",
        "\n",
        "plt.title('ROC Plot')\n",
        "# Axis labels\n",
        "plt.xlabel('False Positive Rate')\n",
        "plt.ylabel('True Positive Rate')\n",
        "# Show legend\n",
        "plt.legend() \n",
        "# Show plot\n",
        "plt.show()"
      ],
      "execution_count": null,
      "outputs": [
        {
          "output_type": "display_data",
          "data": {
            "image/png": "[encoded data removed]",
            "text/plain": [
              "<Figure size 432x288 with 1 Axes>"
            ]
          },
          "metadata": {
            "tags": [],
            "needs_background": "light"
          }
        }
      ]
    }
  ]
}