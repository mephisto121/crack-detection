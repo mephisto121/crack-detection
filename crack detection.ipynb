{
 "cells": [
  {
   "cell_type": "code",
   "execution_count": 27,
   "source": [
    "import numpy as np\r\n",
    "import pandas as pd\r\n",
    "import matplotlib.pyplot as plt\r\n",
    "import os\r\n",
    "import cv2\r\n",
    "from tqdm import tqdm\r\n",
    "import random\r\n",
    "import tensorflow as tf\r\n",
    "from tensorflow.keras.preprocessing.image import ImageDataGenerator\r\n",
    "from tensorflow.keras.models import Sequential\r\n",
    "from tensorflow.keras.layers import Dense, Dropout, Activation, Flatten\r\n",
    "from tensorflow.keras.layers import Conv2D, MaxPooling2D\r\n",
    "from tensorflow.keras.losses import BinaryCrossentropy\r\n",
    "import numpy as np\r\n",
    "from sklearn.utils import shuffle\r\n",
    "\r\n",
    "DATADIR = 'F:/crack_dataset'\r\n",
    "IMG_SIZE = 50\r\n",
    "CATEGORIES = ['negative', 'posetive']\r\n",
    "training_data = []\r\n",
    "\r\n",
    "\r\n",
    "def create_training_data():\r\n",
    "    for category in CATEGORIES:\r\n",
    "        path = os.path.join(DATADIR, category)\r\n",
    "        class_num = CATEGORIES.index(category)\r\n",
    "\r\n",
    "        for img in os.listdir(path):\r\n",
    "            img_array = cv2.imread(os.path.join(\r\n",
    "                path, img), cv2.IMREAD_GRAYSCALE)\r\n",
    "            new_array = cv2.resize(img_array, (IMG_SIZE, IMG_SIZE))\r\n",
    "            training_data.append([new_array, class_num])\r\n",
    "\r\n",
    "\r\n",
    "create_training_data()\r\n",
    "\r\n",
    "training_data = shuffle(training_data)\r\n",
    "\r\n",
    "X = []\r\n",
    "y = []\r\n",
    "\r\n",
    "for features, label in training_data:\r\n",
    "    X.append(features)\r\n",
    "    y.append(label)\r\n",
    "\r\n",
    "X = np.array(X).reshape(-1, IMG_SIZE, IMG_SIZE, 1)\r\n",
    "\r\n",
    "\r\n",
    "X = np.array(X)/255.0\r\n",
    "y = np.array(y)\r\n",
    "X = tf.cast(X, dtype=tf.float32)\r\n",
    "y = tf.cast(y, dtype=tf.int32)"
   ],
   "outputs": [],
   "metadata": {
    "scrolled": true
   }
  },
  {
   "cell_type": "code",
   "execution_count": 29,
   "source": [
    "model = Sequential()\r\n",
    "\r\n",
    "model.add(Conv2D(256, (3, 3), input_shape=X.shape[1:]))\r\n",
    "model.add(Activation('relu'))\r\n",
    "model.add(MaxPooling2D(pool_size=(2, 2)))\r\n",
    "\r\n",
    "model.add(Conv2D(256, (3, 3)))\r\n",
    "model.add(Activation('relu'))\r\n",
    "model.add(MaxPooling2D(pool_size=(2, 2)))\r\n",
    "\r\n",
    "model.add(Flatten())\r\n",
    "\r\n",
    "model.add(Dense(64))\r\n",
    "\r\n",
    "model.add(Dense(1))\r\n",
    "model.add(Activation('sigmoid'))\r\n",
    "\r\n",
    "model.compile(loss=\"BinaryCrossentropy\",\r\n",
    "              optimizer='adam',\r\n",
    "              metrics=['accuracy'])\r\n",
    "import os\r\n",
    "checkpoint_path = \"./keras/tt/\"\r\n",
    "checkpoint_dir = os.path.dirname(checkpoint_path)\r\n",
    "\r\n",
    "cp_callback = tf.keras.callbacks.ModelCheckpoint(filepath=checkpoint_path,\r\n",
    "                                                 save_weights_only=True,\r\n",
    "                                                 save_best_only = True,\r\n",
    "                                                 verbose=0,\r\n",
    "                                                 mode = 'max',\r\n",
    "                                                 patience=6,\r\n",
    "                                                 monitor='val_accuracy'    \r\n",
    "                                                )\r\n",
    "history = model.fit(X, y, batch_size=32, epochs=15, validation_split=0.2, callbacks=[cp_callback])"
   ],
   "outputs": [
    {
     "output_type": "stream",
     "name": "stdout",
     "text": [
      "Epoch 1/15\n",
      "48/48 [==============================] - 16s 332ms/step - loss: 0.5420 - accuracy: 0.7495 - val_loss: 0.1584 - val_accuracy: 0.9318\n",
      "Epoch 2/15\n",
      "48/48 [==============================] - 15s 318ms/step - loss: 0.1161 - accuracy: 0.9586 - val_loss: 0.0802 - val_accuracy: 0.9685\n",
      "Epoch 3/15\n",
      "48/48 [==============================] - 14s 297ms/step - loss: 0.0843 - accuracy: 0.9704 - val_loss: 0.0911 - val_accuracy: 0.9633\n",
      "Epoch 4/15\n",
      "48/48 [==============================] - 16s 330ms/step - loss: 0.2316 - accuracy: 0.9132 - val_loss: 0.1430 - val_accuracy: 0.9738\n",
      "Epoch 5/15\n",
      "48/48 [==============================] - 16s 330ms/step - loss: 0.2479 - accuracy: 0.9323 - val_loss: 0.0992 - val_accuracy: 0.9738\n",
      "Epoch 6/15\n",
      "48/48 [==============================] - 17s 347ms/step - loss: 0.2326 - accuracy: 0.9132 - val_loss: 0.2477 - val_accuracy: 0.9475\n",
      "Epoch 7/15\n",
      "48/48 [==============================] - 16s 344ms/step - loss: 0.2377 - accuracy: 0.9362 - val_loss: 0.3887 - val_accuracy: 0.8661\n",
      "Epoch 8/15\n",
      "48/48 [==============================] - 15s 319ms/step - loss: 0.1611 - accuracy: 0.9546 - val_loss: 0.0857 - val_accuracy: 0.9685\n",
      "Epoch 9/15\n",
      "48/48 [==============================] - 17s 354ms/step - loss: 0.0892 - accuracy: 0.9724 - val_loss: 0.0784 - val_accuracy: 0.9869\n",
      "Epoch 10/15\n",
      "48/48 [==============================] - 17s 347ms/step - loss: 0.1149 - accuracy: 0.9717 - val_loss: 0.0798 - val_accuracy: 0.9711\n",
      "Epoch 11/15\n",
      "48/48 [==============================] - 16s 339ms/step - loss: 0.0702 - accuracy: 0.9770 - val_loss: 0.0688 - val_accuracy: 0.9738\n",
      "Epoch 12/15\n",
      "48/48 [==============================] - 15s 317ms/step - loss: 0.0990 - accuracy: 0.9665 - val_loss: 0.1132 - val_accuracy: 0.9790\n",
      "Epoch 13/15\n",
      "48/48 [==============================] - 17s 347ms/step - loss: 0.0837 - accuracy: 0.9750 - val_loss: 0.1048 - val_accuracy: 0.9606\n",
      "Epoch 14/15\n",
      "48/48 [==============================] - 16s 323ms/step - loss: 0.0632 - accuracy: 0.9849 - val_loss: 0.0582 - val_accuracy: 0.9764\n",
      "Epoch 15/15\n",
      "48/48 [==============================] - 16s 325ms/step - loss: 0.0542 - accuracy: 0.9829 - val_loss: 0.0636 - val_accuracy: 0.9816\n"
     ]
    }
   ],
   "metadata": {}
  },
  {
   "cell_type": "code",
   "execution_count": 30,
   "source": [
    "model.load_weights(checkpoint_path)"
   ],
   "outputs": [
    {
     "output_type": "execute_result",
     "data": {
      "text/plain": [
       "<tensorflow.python.training.tracking.util.CheckpointLoadStatus at 0x2b88935cca0>"
      ]
     },
     "metadata": {},
     "execution_count": 30
    }
   ],
   "metadata": {}
  },
  {
   "cell_type": "code",
   "execution_count": 37,
   "source": [
    "df = pd.DataFrame(history.history)\r\n",
    "epoch = [x for x in range(1,16)]\r\n",
    "df.plot();"
   ],
   "outputs": [
    {
     "output_type": "display_data",
     "data": {
      "image/png": "[encoded data removed]",
      "text/plain": [
       "<Figure size 432x288 with 1 Axes>"
      ]
     },
     "metadata": {
      "needs_background": "light"
     }
    }
   ],
   "metadata": {}
  },
  {
   "cell_type": "code",
   "execution_count": 33,
   "source": [
    "def predict_image(image_path):\r\n",
    "    img_array=cv2.imread(image_path, cv2.IMREAD_GRAYSCALE)\r\n",
    "    new_array = cv2.resize(img_array, (IMG_SIZE, IMG_SIZE))\r\n",
    "    X = np.array(new_array).reshape(-1, IMG_SIZE, IMG_SIZE, 1)\r\n",
    "    X = np.array(X)/255.0\r\n",
    "    predict = model.predict(X, batch_size=None, verbose=0, steps=None)[0][0]\r\n",
    "    prediction = tf.math.round(predict, name=None) \r\n",
    "    if prediction == 1:\r\n",
    "        return \"crack\"\r\n",
    "    else:\r\n",
    "        return  \"no crack\""
   ],
   "outputs": [],
   "metadata": {}
  },
  {
   "cell_type": "code",
   "execution_count": 38,
   "source": [
    "predict_image(\"F:/crack dataset/posetive/07718.jpg\")"
   ],
   "outputs": [
    {
     "output_type": "execute_result",
     "data": {
      "text/plain": [
       "'crack'"
      ]
     },
     "metadata": {},
     "execution_count": 38
    }
   ],
   "metadata": {}
  },
  {
   "cell_type": "code",
   "execution_count": null,
   "source": [],
   "outputs": [],
   "metadata": {}
  }
 ],
 "metadata": {
  "kernelspec": {
   "name": "python3",
   "display_name": "Python 3.8.10 64-bit ('my-rdkit-env': conda)"
  },
  "language_info": {
   "codemirror_mode": {
    "name": "ipython",
    "version": 3
   },
   "file_extension": ".py",
   "mimetype": "text/x-python",
   "name": "python",
   "nbconvert_exporter": "python",
   "pygments_lexer": "ipython3",
   "version": "3.8.10"
  },
  "interpreter": {
   "hash": "caa6e14783f318ee80b4d874b8f8cab213f4dfc3bafd8c9a15aa5773ec1b9e43"
  }
 },
 "nbformat": 4,
 "nbformat_minor": 5
}